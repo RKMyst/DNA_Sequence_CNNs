{
  "nbformat": 4,
  "nbformat_minor": 0,
  "metadata": {
    "colab": {
      "provenance": []
    },
    "kernelspec": {
      "name": "python3",
      "display_name": "Python 3"
    },
    "language_info": {
      "name": "python"
    }
  },
  "cells": [
    {
      "cell_type": "markdown",
      "source": [
        "Dataset: https://www.kaggle.com/code/nageshsingh/demystify-dna-sequencing-with-machine-learning/input?select=human.txt\n",
        "\n",
        "https://colab.research.google.com/#scrollTo=1T3PyN6j8qot&fileId=https%3A//storage.googleapis.com/kaggle-colab-exported-notebooks/demystify-dna-sequencing-with-machine-learning-87c8b59a-03e8-4d85-8184-352772a0f82f.ipynb%3FX-Goog-Algorithm%3DGOOG4-RSA-SHA256%26X-Goog-Credential%3Dgcp-kaggle-com%2540kaggle-161607.iam.gserviceaccount.com/20240312/auto/storage/goog4_request%26X-Goog-Date%3D20240312T043629Z%26X-Goog-Expires%3D259200%26X-Goog-SignedHeaders%3Dhost%26X-Goog-Signature%3D0f61aa289eefe1589fac5a98e7a20cdf29e7a30af8bc780f8a383994bf23c011b6aed32d4fbf7255bf0e482f9d4bf193e7b869b8a9c894af7aef1ad25660e50c99b0cc57eb3096ef626f8ff3380a1f462fe824d75720f177848f34919923db4d928b95a6f7f39f172c88c68027e37ce4c2c6b123bda88b615304a240e3de420a1c6dfa1f3e9013598a00b3cab7cfefb6373c158d3fbde8fd88ddf0774e2941561b3fd46e4b9dfe40281fd8389eb7cea95e0b00730a939fdea3302ad78fd23b23bcaddb22a87951e2e3911d3a387bcaa5940dc82963ebc9e54b703956e1de4dabd34c8a02ee96e245beaf64bbb9c7fd61d7630d47a930329d9f4ea52e153f69f9"
      ],
      "metadata": {
        "id": "t8G8DjTITgHw"
      }
    },
    {
      "cell_type": "code",
      "source": [
        "import pandas as pd\n",
        "import numpy as np\n",
        "import os\n",
        "\n",
        "import joblib\n",
        "\n",
        "from keras import utils\n",
        "from sklearn.model_selection import train_test_split, GridSearchCV\n",
        "from keras.models import Sequential\n",
        "from keras.layers import Dense, Dropout, Flatten, Conv1D, MaxPooling1D, MaxPooling2D, Conv2D, LSTM, GRU, Bidirectional\n",
        "from keras import regularizers\n",
        "from keras.callbacks import EarlyStopping, ModelCheckpoint\n",
        "from scikeras.wrappers import KerasClassifier, KerasRegressor\n",
        "import keras\n",
        "\n",
        "\n",
        "from Bio import SeqIO\n",
        "\n",
        "import re\n",
        "from sklearn.preprocessing import LabelEncoder"
      ],
      "metadata": {
        "id": "SM_r1OZe3gWj"
      },
      "execution_count": 34,
      "outputs": []
    },
    {
      "cell_type": "code",
      "source": [
        "\n",
        "# IMPORTANT: RUN THIS CELL IN ORDER TO IMPORT YOUR KAGGLE DATA SOURCES\n",
        "# TO THE CORRECT LOCATION (/kaggle/input) IN YOUR NOTEBOOK,\n",
        "# THEN FEEL FREE TO DELETE THIS CELL.\n",
        "# NOTE: THIS NOTEBOOK ENVIRONMENT DIFFERS FROM KAGGLE'S PYTHON\n",
        "# ENVIRONMENT SO THERE MAY BE MISSING LIBRARIES USED BY YOUR\n",
        "# NOTEBOOK.\n",
        "\n",
        "import os\n",
        "import sys\n",
        "from tempfile import NamedTemporaryFile\n",
        "from urllib.request import urlopen\n",
        "from urllib.parse import unquote, urlparse\n",
        "from urllib.error import HTTPError\n",
        "from zipfile import ZipFile\n",
        "import tarfile\n",
        "import shutil\n",
        "\n",
        "CHUNK_SIZE = 40960\n",
        "DATA_SOURCE_MAPPING = 'dna-sequence-dataset:https%3A%2F%2Fstorage.googleapis.com%2Fkaggle-data-sets%2F1099198%2F1848242%2Fbundle%2Farchive.zip%3FX-Goog-Algorithm%3DGOOG4-RSA-SHA256%26X-Goog-Credential%3Dgcp-kaggle-com%2540kaggle-161607.iam.gserviceaccount.com%252F20240312%252Fauto%252Fstorage%252Fgoog4_request%26X-Goog-Date%3D20240312T043628Z%26X-Goog-Expires%3D259200%26X-Goog-SignedHeaders%3Dhost%26X-Goog-Signature%3D5afb01d03942e700d028deb3c040073ced86338262cf526a8ddd41fce6891838d8ff3f171de35c1088faac9b4bf9c934736410c43f0fd53abd02f3cc8d261e536ea3cdb709fd977da0898293310e4537294c9f9a532af39f286d7d693dac4d4ab760844b18cfe219ccb8981113eb97fec742b75b6602698d90e4e6b5b613da1d5875c84cf39b6d33619c07270d76a61560c83e2a882eedb09059c3b27585042029a1b1d1aa3702d99529797ecd2d23b104523577ebd58252c1622d707a096c937771c61ceea33c09601e5f8f3e1c4cb6b50e4ef7a1680485cbb15ac0e7fd018fe33031a70d311f0fa3bf46762ddca8cf6c6ecebd090be48112ee2c04285bd0db'\n",
        "\n",
        "KAGGLE_INPUT_PATH='/kaggle/input'\n",
        "KAGGLE_WORKING_PATH='/kaggle/working'\n",
        "KAGGLE_SYMLINK='kaggle'\n",
        "\n",
        "!umount /kaggle/input/ 2> /dev/null\n",
        "shutil.rmtree('/kaggle/input', ignore_errors=True)\n",
        "os.makedirs(KAGGLE_INPUT_PATH, 0o777, exist_ok=True)\n",
        "os.makedirs(KAGGLE_WORKING_PATH, 0o777, exist_ok=True)\n",
        "\n",
        "try:\n",
        "  os.symlink(KAGGLE_INPUT_PATH, os.path.join(\"..\", 'input'), target_is_directory=True)\n",
        "except FileExistsError:\n",
        "  pass\n",
        "try:\n",
        "  os.symlink(KAGGLE_WORKING_PATH, os.path.join(\"..\", 'working'), target_is_directory=True)\n",
        "except FileExistsError:\n",
        "  pass\n",
        "\n",
        "for data_source_mapping in DATA_SOURCE_MAPPING.split(','):\n",
        "    directory, download_url_encoded = data_source_mapping.split(':')\n",
        "    download_url = unquote(download_url_encoded)\n",
        "    filename = urlparse(download_url).path\n",
        "    destination_path = os.path.join(KAGGLE_INPUT_PATH, directory)\n",
        "    try:\n",
        "        with urlopen(download_url) as fileres, NamedTemporaryFile() as tfile:\n",
        "            total_length = fileres.headers['content-length']\n",
        "            print(f'Downloading {directory}, {total_length} bytes compressed')\n",
        "            dl = 0\n",
        "            data = fileres.read(CHUNK_SIZE)\n",
        "            while len(data) > 0:\n",
        "                dl += len(data)\n",
        "                tfile.write(data)\n",
        "                done = int(50 * dl / int(total_length))\n",
        "                sys.stdout.write(f\"\\r[{'=' * done}{' ' * (50-done)}] {dl} bytes downloaded\")\n",
        "                sys.stdout.flush()\n",
        "                data = fileres.read(CHUNK_SIZE)\n",
        "            if filename.endswith('.zip'):\n",
        "              with ZipFile(tfile) as zfile:\n",
        "                zfile.extractall(destination_path)\n",
        "            else:\n",
        "              with tarfile.open(tfile.name) as tarfile:\n",
        "                tarfile.extractall(destination_path)\n",
        "            print(f'\\nDownloaded and uncompressed: {directory}')\n",
        "    except HTTPError as e:\n",
        "        print(f'Failed to load (likely expired) {download_url} to path {destination_path}')\n",
        "        continue\n",
        "    except OSError as e:\n",
        "        print(f'Failed to load {download_url} to path {destination_path}')\n",
        "        continue\n",
        "\n",
        "print('Data source import complete.')\n"
      ],
      "metadata": {
        "colab": {
          "base_uri": "https://localhost:8080/"
        },
        "id": "SI9WZa5X9ZrR",
        "outputId": "75a9bc3a-485b-44b1-e901-b544e807eab1"
      },
      "execution_count": 35,
      "outputs": [
        {
          "output_type": "stream",
          "name": "stdout",
          "text": [
            "Downloading dna-sequence-dataset, 1580230 bytes compressed\n",
            "[==================================================] 1580230 bytes downloaded\n",
            "Downloaded and uncompressed: dna-sequence-dataset\n",
            "Data source import complete.\n"
          ]
        }
      ]
    },
    {
      "cell_type": "code",
      "source": [
        "\n",
        "for sequence in SeqIO.parse('../input/dna-sequence-dataset/example_dna.fa', \"fasta\"):\n",
        "    print(sequence.id)\n",
        "    print(sequence.seq)\n",
        "    print(len(sequence))"
      ],
      "metadata": {
        "colab": {
          "base_uri": "https://localhost:8080/"
        },
        "id": "0zxGplYbDRaj",
        "outputId": "67e2185a-b9c2-4b37-a1f0-dab0738f8f94"
      },
      "execution_count": 36,
      "outputs": [
        {
          "output_type": "stream",
          "name": "stdout",
          "text": [
            "ENST00000435737.5\n",
            "ATGTTTCGCATCACCAACATTGAGTTTCTTCCCGAATACCGACAAAAGGAGTCCAGGGAATTTCTTTCAGTGTCACGGACTGTGCAGCAAGTGATAAACCTGGTTTATACAACATCTGCCTTCTCCAAATTTTATGAGCAGTCTGTTGTTGCAGATGTCAGCAACAACAAAGGCGGCCTCCTTGTCCACTTTTGGATTGTTTTTGTCATGCCACGTGCCAAAGGCCACATCTTCTGTGAAGACTGTGTTGCCGCCATCTTGAAGGACTCCATCCAGACAAGCATCATAAACCGGACCTCTGTGGGGAGCTTGCAGGGACTGGCTGTGGACATGGACTCTGTGGTACTAAATGAAGTCCTGGGGCTGACTCTCATTGTCTGGATTGACTGA\n",
            "390\n",
            "ENST00000419127.5\n",
            "ATGTTTCGCATCACCAACATTGAGTTTCTTCCCGAATACCGACAAAAGGAGTCCAGGGAATTTCTTTCAGTGTCACGGACTGTGCAGCAAGTGATAAACCTGGTTTATACAACATCTGCCTTCTCCAAATTTTATGAGCAGTCTGTTGTTGCAGATGTCAGCAACAACAAAGGCGGCCTCCTTGTCCACTTTTGGATTGTTTTTGTCATGCCACGTGCCAAAGGCCACATCTTCTGTGAAGACTGTGTTGCCGCCATCTTGAAGGACTCCATCCAGACAAGCATCATAAACCGGACCTCTGTGGGGAGCTTGCAGGGACTGGCTGTGGACATGGACTCTGTGGTACTAAATGACAAAGGCTGCTCTCAGTACTTCTATGCAGAGCATCTGTCTCTCCACTACCCGCTGGAGATTTCTGCAGCCTCAGGGAGGCTGATGTGTCACTTCAAGCTGGTGGCCATAGTGGGCTACCTGATTCGTCTCTCAATCAAGTCCATCCAAATCGAAGCCGACAACTGTGTCACTGACTCCCTGACCATTTACGACTCCCTTTTGCCCATCCGGAGCAGCATCTTGTACAGAATTTGTGAACCCACAAGAACATTAATGTCATTTGTTTCTACAAATAATCTCATGTTGGTGACATTTAAGTCTCCTCATATACGGAGGCTCTCAGGAATCCGGGCATATTTTGAGGTCATTCCAGAACAAAAGTGTGAAAACACAGTGTTGGTCAAAGACATCACTGGCTTTGAAGGGAAAATTTCAAGCCCATATTACCCGAGCTACTATCCTCCAAAATGCAAGTGTACCTGGAAATTTCAGACTTCTCTATCAACTCTTGGCATAGCACTGAAATTCTATAACTATTCAATAACCAAGAAGAGTATGAAAGGCTGTGAGCATGGATGGTGGGAAATTAATGAGCACATGTACTGTGGCTCCTACATGGATCATCAGACAATTTTTCGAGTGCCCAGCCCTCTGGTTCACATTCAGCTCCAGTGCAGTTCAAGGCTTTCAGACAAGCCACTTTTGGCAGAATATGGCAGTTACAACATCAGTCAACCCTGCCCTGTTGGATCTTTTAGATGCTCCTCCGGTTTATGTGTCCCTCAGGCCCAGCGTTGTGATGGAGTAAATGACTGCTTTGATGAAAGTGATGAACTGTTTTGCGTGAGCCCTCAACCTGCCTGCAATACCAGCTCCTTCAGGCAGCATGGCCCTCTCATCTGTGATGGCTTCAGGGACTGTGAGAATGGCCGGGATGAGCAAAACTGCACTCAAAGTATTCCATGCAACAACAGAACTTTTAAGTGTGGCAATGATATTTGCTTTAGGAAACAAAATGCAAAATGTGATGGGACAGTGGATTGTCCAGATGGAAGTGATGAAGAAGGCTGCACCTGCAGCAGGAGTTCCTCCGCCCTTCACCGCATCATCGGAGGCACAGACACCCTGGAGGGGGGTTGGCCGTGGCAGGTCAGCCTCCACTTTGTTGGATCTGCCTACTGTGGTGCCTCAGTCATCTCCAGGGAGTGGCTTCTTTCTGCAGCCCACTGTTTTCATGGAAACAGGCTGTCAGATCCCACACCATGGACTGCACACCTCGGGATGTATGTTCAGGGGAATGCCAAGTTTGTCTCCCCGGTGAGAAGAATTGTGGTCCACGAGTACTATAACAGTCAGACTTTTGATTATGATATTGCTTTGCTACAGCTCAGTATTGCCTGGCCTGAGACCCTGAAACAGCTCATTCAGCCAATATGCATTCCTCCCACTGGTCAGAGAGTTCGCAGTGGGGAGAAGTGCTGGGTAACTGGCTGGGGGCGAAGACACGAAGCAGATAATAAAGGCTCCCTCGTTCTGCAGCAAGCGGAGGTAGAGCTCATTGATCAAACGCTCTGTGTTTCCACCTACGGGATCATCACTTCTCGGATGCTCTGTGCAGGCATAATGTCAGGCAAGAGAGATGCCTGCAAAGGAGATTCGGGTGGACCTTTATCTTGTCGAAGAAAAAGTGATGGAAAATGGATTTTGACTGGCATTGTTAGCTGGGGACATGGAAGTGGACGACCAAACTTTCCTGGTGTTTACACAAGGGTGTCAAACTTTGTTCCCTGGATTCATAAATATGTCCCTTCTCTTTTGTAA\n",
            "2154\n"
          ]
        }
      ]
    },
    {
      "cell_type": "code",
      "source": [
        "# Load the dataset and print basic information\n",
        "sequences = list(SeqIO.parse('../input/dna-sequence-dataset/example_dna.fa', 'fasta'))\n",
        "\n",
        "print(f\"Number of sequences: {len(sequences)}\")\n",
        "print(f\"Average sequence length: {np.mean([len(seq) for seq in sequences])}\")\n",
        "print(f\"Minimum sequence length: {np.min([len(seq) for seq in sequences])}\")\n",
        "print(f\"Maximum sequence length: {np.max([len(seq) for seq in sequences])}\")\n"
      ],
      "metadata": {
        "colab": {
          "base_uri": "https://localhost:8080/"
        },
        "id": "eyylyZPd_tyQ",
        "outputId": "040b29be-8a69-45c7-8887-fd688e05d2ac"
      },
      "execution_count": 37,
      "outputs": [
        {
          "output_type": "stream",
          "name": "stdout",
          "text": [
            "Number of sequences: 2\n",
            "Average sequence length: 1272.0\n",
            "Minimum sequence length: 390\n",
            "Maximum sequence length: 2154\n"
          ]
        }
      ]
    },
    {
      "cell_type": "code",
      "source": [
        "# Load sequences and labels\n",
        "sequences = []\n",
        "labels = []\n",
        "\n",
        "# Path to your data file\n",
        "data_filepath = '/input/dna-sequence-dataset/example_dna.fa'\n",
        "\n",
        "# Load sequences from the data file\n",
        "for sequence in SeqIO.parse(data_filepath, \"fasta\"):\n",
        "    sequences.append(sequence)\n",
        "    # Extract class label from the sequence ID or any other method based on your data\n",
        "    label = sequence.id.split('.')[0]  # Adjust this based on your sequence ID structure\n",
        "    labels.append(label)\n",
        "\n",
        "# Now, sequences and labels contain your Bio.SeqRecord.SeqRecord objects and corresponding labels\n"
      ],
      "metadata": {
        "id": "yqr3CNczHhCH"
      },
      "execution_count": 38,
      "outputs": []
    },
    {
      "cell_type": "code",
      "source": [
        "import numpy as np\n",
        "import re\n",
        "from sklearn.preprocessing import LabelEncoder\n",
        "\n",
        "# Preprocess and encode sequences\n",
        "def preprocess_sequence(sequence):\n",
        "    # Convert the sequence to lowercase\n",
        "    sequence = sequence.lower()\n",
        "\n",
        "    # Remove unwanted characters (keep only 'acgt')\n",
        "    sequence = re.sub('[^acgt]', 'n', sequence)\n",
        "\n",
        "    return sequence\n",
        "\n",
        "# Apply preprocessing to all sequences\n",
        "preprocessed_sequences = [preprocess_sequence(str(sequence.seq)) for sequence in sequences]\n",
        "\n",
        "# Encode labels using LabelEncoder\n",
        "label_encoder = LabelEncoder()\n",
        "encoded_labels = label_encoder.fit_transform(labels)\n",
        "\n",
        "# Combine preprocessed sequences and encoded labels\n",
        "combined_data = list(zip(preprocessed_sequences, encoded_labels))\n",
        "\n",
        "# Shuffle the combined data\n",
        "np.random.shuffle(combined_data)\n",
        "\n",
        "# Split the combined data into training and validation sets\n",
        "split_index = int(0.8 * len(combined_data))\n",
        "train_data = combined_data[:split_index]\n",
        "val_data = combined_data[split_index:]\n",
        "\n",
        "# Unpack the training and validation data\n",
        "X_train, y_train = zip(*train_data)\n",
        "X_val, y_val = zip(*val_data)\n",
        "\n",
        "# Convert to arrays\n",
        "X_train = np.array(X_train)\n",
        "X_val = np.array(X_val)\n",
        "y_train = np.array(y_train)\n",
        "y_val = np.array(y_val)\n"
      ],
      "metadata": {
        "id": "hWSAP6WFK22o"
      },
      "execution_count": 40,
      "outputs": []
    },
    {
      "cell_type": "code",
      "source": [
        "# Convert sequences to arrays of individual characters\n",
        "X_train = np.array([list(seq) for seq in X_train])\n",
        "X_val = np.array([list(seq) for seq in X_val])\n",
        "\n",
        "# Create a mapping from characters to integers\n",
        "char_to_int = {char: i for i, char in enumerate('acgtn')}\n",
        "\n",
        "from keras.preprocessing.sequence import pad_sequences\n",
        "\n",
        "# Pad or truncate sequences to a fixed length (e.g., 2154)\n",
        "max_sequence_length = 2154\n",
        "X_train_padded = pad_sequences(X_train_encoded, maxlen=max_sequence_length)\n",
        "X_val_padded = pad_sequences(X_val_encoded, maxlen=max_sequence_length)\n",
        "\n",
        "# Define the CNN model\n",
        "from keras.models import Sequential\n",
        "from keras.layers import Embedding, Conv1D, GlobalMaxPooling1D, Dense\n",
        "\n",
        "model = Sequential()\n",
        "model.add(Embedding(input_dim=len(char_to_int), output_dim=32, input_length=len(X_train_encoded[0])))\n",
        "model.add(Conv1D(filters=32, kernel_size=3, activation='relu'))\n",
        "model.add(GlobalMaxPooling1D())\n",
        "model.add(Dense(64, activation='relu'))\n",
        "model.add(Dense(1, activation='sigmoid'))  # Assuming binary classification\n",
        "\n",
        "# Compile the model\n",
        "model.compile(optimizer='adam', loss='binary_crossentropy', metrics=['accuracy'])\n",
        "\n",
        "# Train the model with padded sequences\n",
        "history = model.fit(X_train_padded, y_train, validation_data=(X_val_padded, y_val), epochs=10, batch_size=32)\n",
        "\n",
        "# Plot Training and Validation loss and accuracy\n",
        "import matplotlib.pyplot as plt\n",
        "\n",
        "plt.plot(history.history['loss'], label='Training Loss')\n",
        "plt.plot(history.history['val_loss'], label='Validation Loss')\n",
        "plt.xlabel('Epochs')\n",
        "plt.ylabel('Loss')\n",
        "plt.legend()\n",
        "plt.show()\n",
        "\n",
        "plt.plot(history.history['accuracy'], label='Training Accuracy')\n",
        "plt.plot(history.history['val_accuracy'], label='Validation Accuracy')\n",
        "plt.xlabel('Epochs')\n",
        "plt.ylabel('Accuracy')\n",
        "plt.legend()\n",
        "plt.show()\n",
        "\n",
        "# Discuss the results\n",
        "# (Provide insights and analysis of the training process and results)\n",
        "# ...\n"
      ],
      "metadata": {
        "colab": {
          "base_uri": "https://localhost:8080/",
          "height": 1000
        },
        "id": "hY61x1YsLkt1",
        "outputId": "7b939b86-2b10-439a-da3c-9a360ccb81a2"
      },
      "execution_count": 41,
      "outputs": [
        {
          "output_type": "stream",
          "name": "stdout",
          "text": [
            "Epoch 1/10\n",
            "1/1 [==============================] - 1s 1s/step - loss: 0.6987 - accuracy: 0.0000e+00 - val_loss: 0.7054 - val_accuracy: 0.0000e+00\n",
            "Epoch 2/10\n",
            "1/1 [==============================] - 0s 85ms/step - loss: 0.6810 - accuracy: 1.0000 - val_loss: 0.7216 - val_accuracy: 0.0000e+00\n",
            "Epoch 3/10\n",
            "1/1 [==============================] - 0s 73ms/step - loss: 0.6655 - accuracy: 1.0000 - val_loss: 0.7374 - val_accuracy: 0.0000e+00\n",
            "Epoch 4/10\n",
            "1/1 [==============================] - 0s 74ms/step - loss: 0.6508 - accuracy: 1.0000 - val_loss: 0.7538 - val_accuracy: 0.0000e+00\n",
            "Epoch 5/10\n",
            "1/1 [==============================] - 0s 69ms/step - loss: 0.6360 - accuracy: 1.0000 - val_loss: 0.7693 - val_accuracy: 0.0000e+00\n",
            "Epoch 6/10\n",
            "1/1 [==============================] - 0s 61ms/step - loss: 0.6224 - accuracy: 1.0000 - val_loss: 0.7836 - val_accuracy: 0.0000e+00\n",
            "Epoch 7/10\n",
            "1/1 [==============================] - 0s 81ms/step - loss: 0.6102 - accuracy: 1.0000 - val_loss: 0.7981 - val_accuracy: 0.0000e+00\n",
            "Epoch 8/10\n",
            "1/1 [==============================] - 0s 63ms/step - loss: 0.5982 - accuracy: 1.0000 - val_loss: 0.8131 - val_accuracy: 0.0000e+00\n",
            "Epoch 9/10\n",
            "1/1 [==============================] - 0s 78ms/step - loss: 0.5861 - accuracy: 1.0000 - val_loss: 0.8290 - val_accuracy: 0.0000e+00\n",
            "Epoch 10/10\n",
            "1/1 [==============================] - 0s 82ms/step - loss: 0.5736 - accuracy: 1.0000 - val_loss: 0.8459 - val_accuracy: 0.0000e+00\n"
          ]
        },
        {
          "output_type": "display_data",
          "data": {
            "text/plain": [
              "<Figure size 640x480 with 1 Axes>"
            ],
            "image/png": "[encoded data removed]"
          },
          "metadata": {}
        },
        {
          "output_type": "display_data",
          "data": {
            "text/plain": [
              "<Figure size 640x480 with 1 Axes>"
            ],
            "image/png": "[encoded data removed]"
          },
          "metadata": {}
        }
      ]
    },
    {
      "cell_type": "markdown",
      "source": [],
      "metadata": {
        "id": "ovJYv0a-TeSE"
      }
    },
    {
      "cell_type": "markdown",
      "source": [
        "## Summary of DNA Sequence CNNs.ipynb Based on the Two Images:\n",
        "\n",
        "**Positive Signs:**\n",
        "\n",
        "- Both the training and validation accuracy (from the first image) show an increasing trend, indicating the model's ability to learn and classify DNA sequences correctly.\n",
        "- The training and validation loss curves (from the second image) exhibit a downward trend, suggesting the model is effectively learning from the training data.\n",
        "\n",
        "**Potential Concerns:**\n",
        "\n",
        "- The high training accuracy in the first image might warrant caution, as it could indicate overfitting (the model memorizing training examples too closely).\n",
        "- While the validation accuracy is also increasing, close monitoring is necessary to ensure it doesn't plateau or decrease significantly.\n",
        "\n",
        "**Recommendations:**\n",
        "\n",
        "- **Early Stopping:** Implement this technique to halt training if the validation accuracy doesn't improve for a predefined number of epochs, preventing overfitting.\n",
        "- **Data Augmentation:** Artificially increase the size and diversity of the training data through techniques like random cropping, flipping, or adding noise. This can help the model learn more generalizable features.\n",
        "- **Regularization:** Techniques like dropout layers or L1/L2 regularization can help reduce model complexity and prevent overfitting.\n",
        "\n",
        "**Next Steps:**\n",
        "\n",
        "1. **Evaluate Model Performance:** Test the model on a separate, unseen dataset to assess its generalization capability in real-world scenarios.\n",
        "2. **Refine the Model (if necessary):** Based on the testing results, you might need to:\n",
        "    - Adjust hyperparameters (learning rate, epochs) using techniques like grid search or randomized search.\n",
        "    - Explore different model architectures (deeper/wider convolutional layers) if the current model's performance is insufficient.\n",
        "\n",
        "**Overall:**\n",
        "\n",
        "The combined analysis suggests the model is making progress in learning from the training data. However, close monitoring of the validation loss and potential implementation of regularization techniques are crucial to address overfitting and ensure the model generalizes well to unseen DNA sequences.\n"
      ],
      "metadata": {
        "id": "35pfHpCWNj9x"
      }
    }
  ]
}